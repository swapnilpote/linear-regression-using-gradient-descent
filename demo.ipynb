{
 "cells": [
  {
   "cell_type": "code",
   "execution_count": 1,
   "metadata": {
    "collapsed": true
   },
   "outputs": [],
   "source": [
    "%matplotlib inline\n",
    "\n",
    "import matplotlib.pyplot as plt\n",
    "import math,sys,os,numpy as np"
   ]
  },
  {
   "cell_type": "code",
   "execution_count": 2,
   "metadata": {
    "collapsed": true
   },
   "outputs": [],
   "source": [
    "data = np.genfromtxt('data.csv', delimiter=',')"
   ]
  },
  {
   "cell_type": "code",
   "execution_count": 3,
   "metadata": {},
   "outputs": [
    {
     "data": {
      "text/plain": [
       "(100, 2)"
      ]
     },
     "execution_count": 3,
     "metadata": {},
     "output_type": "execute_result"
    }
   ],
   "source": [
    "data.shape"
   ]
  },
  {
   "cell_type": "markdown",
   "metadata": {},
   "source": [
    "## linear regression formula\n",
    "\n",
    "y = m * x + b"
   ]
  },
  {
   "cell_type": "code",
   "execution_count": 14,
   "metadata": {
    "collapsed": true
   },
   "outputs": [],
   "source": [
    "# Define hyperparameter\n",
    "initial_b = 0\n",
    "initial_m = 0\n",
    "\n",
    "# Learning rate for adjustment of m & b\n",
    "learning_rate = 0.0001\n",
    "\n",
    "# Number of iteration\n",
    "number_iteration = 10000\n",
    "\n",
    "# Number of data point\n",
    "n = float(len(data))"
   ]
  },
  {
   "cell_type": "code",
   "execution_count": 5,
   "metadata": {
    "collapsed": true
   },
   "outputs": [],
   "source": [
    "# Fetch x & y values\n",
    "x = data[:, 0]\n",
    "y = data[:, 1]"
   ]
  },
  {
   "cell_type": "code",
   "execution_count": 6,
   "metadata": {},
   "outputs": [
    {
     "data": {
      "text/plain": [
       "(array([ 32.50234527,  53.42680403,  61.53035803,  47.47563963,  59.81320787]),\n",
       " array([ 31.70700585,  68.77759598,  62.5623823 ,  71.54663223,  87.23092513]))"
      ]
     },
     "execution_count": 6,
     "metadata": {},
     "output_type": "execute_result"
    }
   ],
   "source": [
    "x[:5], y[:5]"
   ]
  },
  {
   "cell_type": "code",
   "execution_count": 7,
   "metadata": {
    "collapsed": true
   },
   "outputs": [],
   "source": [
    "# Compute cost or error of our equation with initial value of m & b\n",
    "def cost(x, y, b, m, n):\n",
    "    current_b = b\n",
    "    current_m = m\n",
    "    total_error = 0\n",
    "    \n",
    "    # compute y with value of m & b\n",
    "    for i in range(len(data)):\n",
    "        total_error += (y[i] - (current_b + current_m * x[i]))**2\n",
    "    \n",
    "    return total_error / n"
   ]
  },
  {
   "cell_type": "code",
   "execution_count": 8,
   "metadata": {},
   "outputs": [
    {
     "name": "stdout",
     "output_type": "stream",
     "text": [
      "5565.10783448\n"
     ]
    }
   ],
   "source": [
    "# Initial error \n",
    "print cost(x, y, initial_b, initial_m, n)"
   ]
  },
  {
   "cell_type": "code",
   "execution_count": 9,
   "metadata": {},
   "outputs": [
    {
     "data": {
      "image/png": "[encoded data removed]",
      "text/plain": [
       "<matplotlib.figure.Figure at 0x113752e10>"
      ]
     },
     "metadata": {},
     "output_type": "display_data"
    }
   ],
   "source": [
    "plt.scatter(x, y, label='skitscat', color='k', s=25, marker=\"*\")\n",
    "plt.plot(x, (initial_m * x + initial_b))\n",
    "\n",
    "plt.xlabel('x')\n",
    "plt.ylabel('y')\n",
    "\n",
    "plt.legend()\n",
    "plt.show()"
   ]
  },
  {
   "cell_type": "code",
   "execution_count": 10,
   "metadata": {
    "collapsed": true
   },
   "outputs": [],
   "source": [
    "# Adjust values of m and b to reduce above error. Find best fit line for same.\n",
    "def gradient_descent(x, y, initial_b, initial_m, learning_rate, number_iteration, n):\n",
    "    b = initial_b\n",
    "    m = initial_m\n",
    "    \n",
    "    for i in range(number_iteration):\n",
    "        b, m = step_gradient(x, y, b, m, learning_rate, n)\n",
    "    \n",
    "    return b, m"
   ]
  },
  {
   "cell_type": "code",
   "execution_count": 11,
   "metadata": {
    "collapsed": true
   },
   "outputs": [],
   "source": [
    "def step_gradient(x, y, current_b, current_m, learning_rate, n):\n",
    "    gradient_b = 0\n",
    "    gradient_m = 0\n",
    "    \n",
    "    for i in range(len(data)):\n",
    "        gradient_b += (-(2/n) * (y[i] - ((current_m * x[i]) + current_b)))\n",
    "        gradient_m += (-(2/n) * x[i] * (y[i] - ((current_m * x[i]) + current_b)))\n",
    "        \n",
    "    b = current_b - (learning_rate * gradient_b)\n",
    "    m = current_m - (learning_rate * gradient_m)\n",
    "    \n",
    "    return b, m"
   ]
  },
  {
   "cell_type": "code",
   "execution_count": 15,
   "metadata": {},
   "outputs": [
    {
     "name": "stdout",
     "output_type": "stream",
     "text": [
      "0.607898599705 1.46754404363\n"
     ]
    }
   ],
   "source": [
    "final_b, final_m = gradient_descent(x, y, initial_b, initial_m, learning_rate, number_iteration, n)\n",
    "\n",
    "print final_b, final_m"
   ]
  },
  {
   "cell_type": "code",
   "execution_count": 16,
   "metadata": {},
   "outputs": [
    {
     "name": "stdout",
     "output_type": "stream",
     "text": [
      "112.315334271\n"
     ]
    }
   ],
   "source": [
    "print cost(x, y, final_b, final_m, n)"
   ]
  },
  {
   "cell_type": "code",
   "execution_count": 17,
   "metadata": {},
   "outputs": [
    {
     "data": {
      "image/png": "[encoded data removed]",
      "text/plain": [
       "<matplotlib.figure.Figure at 0x10d04d410>"
      ]
     },
     "metadata": {},
     "output_type": "display_data"
    }
   ],
   "source": [
    "plt.scatter(x, y, label='skitscat', color='k', s=25, marker=\"*\")\n",
    "plt.plot(x, (final_m * x + final_b))\n",
    "\n",
    "plt.xlabel('x')\n",
    "plt.ylabel('y')\n",
    "\n",
    "plt.legend()\n",
    "plt.show()"
   ]
  },
  {
   "cell_type": "code",
   "execution_count": null,
   "metadata": {
    "collapsed": true
   },
   "outputs": [],
   "source": []
  }
 ],
 "metadata": {
  "kernelspec": {
   "display_name": "Python 2",
   "language": "python",
   "name": "python2"
  },
  "language_info": {
   "codemirror_mode": {
    "name": "ipython",
    "version": 2
   },
   "file_extension": ".py",
   "mimetype": "text/x-python",
   "name": "python",
   "nbconvert_exporter": "python",
   "pygments_lexer": "ipython2",
   "version": "2.7.13"
  }
 },
 "nbformat": 4,
 "nbformat_minor": 2
}
